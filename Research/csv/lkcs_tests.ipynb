{
 "cells": [
  {
   "cell_type": "code",
   "execution_count": 1,
   "id": "c3b8577c",
   "metadata": {},
   "outputs": [],
   "source": [
    "import csv\n",
    "from time import time\n",
    "from datetime import timedelta\n",
    "\n",
    "import inflect\n",
    "\n",
    "def create_data(num):\n",
    "    p = inflect.engine()\n",
    "\n",
    "    filename=[\"first\", \"second\", \"third\", \"fourth\", \"fifth\",\"sixth\", \"sevent\", \"eight\", \"ninth\", \"tenth\"]\n",
    "    filename = filename[:num]\n",
    "\n",
    "    for index, file in enumerate(filename):\n",
    "        with open(f\"{file}.csv\", \"w\", newline=\"\") as csvfile:\n",
    "            csvwriter = csv.writer(csvfile)\n",
    "            columns = 1_0\n",
    "            rows = 1_0\n",
    "            st = time()\n",
    "            csvwriter.writerows([[file]+[f\"{p.number_to_words(r+1)}_{p.number_to_words(c+1)}\" for c in range(columns)] for r in range(rows)])\n",
    "            et = time()\n",
    "            print(f\"[HH:MM:SS]{timedelta(seconds=et-st)}\")\n",
    "            print(f\"{(index+1)*100/len(filename)}%\") # percent complete"
   ]
  },
  {
   "cell_type": "code",
   "execution_count": 3,
   "id": "0bda693b",
   "metadata": {},
   "outputs": [
    {
     "name": "stdout",
     "output_type": "stream",
     "text": [
      "[HH:MM:SS]0:01:01.755295\n",
      "50.0%\n",
      "[HH:MM:SS]0:01:02.311080\n",
      "100.0%\n"
     ]
    }
   ],
   "source": [
    "create_data(2)"
   ]
  },
  {
   "cell_type": "code",
   "execution_count": 3,
   "id": "b8ce75d8",
   "metadata": {},
   "outputs": [
    {
     "name": "stdout",
     "output_type": "stream",
     "text": [
      "Overwriting reducer_test.py\n"
     ]
    }
   ],
   "source": [
    "%%file reducer_test.py\n",
    "import sys\n",
    "from glob import glob\n",
    "from time import time\n",
    "from datetime import timedelta\n",
    "from functools import reduce, partial\n",
    "\n",
    "from memory_profiler import profile\n",
    "\n",
    "\n",
    "@profile\n",
    "def reducer(num=None):\n",
    "    st = time()\n",
    "\n",
    "    received_csv_files = [file for file in glob(\"*.csv\") if file != \"cumulative.csv\"]\n",
    "    if num == None or 0 > num > len(received_csv_files):\n",
    "        num = len(received_csv_files)\n",
    "    received_csv_files = received_csv_files[:num]\n",
    "    print(received_csv_files)\n",
    "\n",
    "    open_csv_files = map(partial(open, mode=\"rb\"), received_csv_files)\n",
    "\n",
    "    with open(\"cumulative.csv\", \"wb\") as outfile:\n",
    "\n",
    "        def combine_files(out_file, in_file):\n",
    "            #             if out_file.tell() == 0:\n",
    "            #                 out_file.writelines(in_file)\n",
    "            #             else:\n",
    "            #                 next(in_file)\n",
    "            #                 out_file.writelines(in_file)\n",
    "            #             in_file.close()\n",
    "            #             return out_file\n",
    "            for line in in_file:\n",
    "                if out_file.tell() == 0:\n",
    "                    out_file.write(line)\n",
    "                elif in_file.tell() == 0:\n",
    "                    next(in_file)\n",
    "                    out_file.write(line)\n",
    "                else:\n",
    "                    out_file.write(line)\n",
    "            in_file.close()\n",
    "            return out_file\n",
    "\n",
    "        reduce(combine_files, open_csv_files, outfile)\n",
    "\n",
    "    et = time()\n",
    "    print(f\"[HH:MM:SS]{timedelta(seconds=et-st)}\")\n",
    "\n",
    "\n",
    "if __name__ == \"__main__\":\n",
    "    reducer(int(sys.argv[1]))\n"
   ]
  },
  {
   "cell_type": "code",
   "execution_count": 5,
   "id": "91756be0",
   "metadata": {},
   "outputs": [],
   "source": [
    "%load_ext memory_profiler"
   ]
  },
  {
   "cell_type": "code",
   "execution_count": 16,
   "id": "2154bca6",
   "metadata": {},
   "outputs": [
    {
     "name": "stdout",
     "output_type": "stream",
     "text": [
      "ERROR: Could not find file /tmp/ipykernel_5571/440761055.py\n",
      "['first.csv', 'fourth.csv']\n",
      "[HH:MM:SS]0:00:00.153600\n",
      "peak memory: 92.79 MiB, increment: 0.01 MiB\n"
     ]
    }
   ],
   "source": [
    "%memit reducer(2)"
   ]
  },
  {
   "cell_type": "code",
   "execution_count": 2,
   "id": "95a7d561",
   "metadata": {},
   "outputs": [
    {
     "name": "stdout",
     "output_type": "stream",
     "text": [
      "[HH:MM:SS]0:00:00.006058\n",
      "10.0%\n",
      "[HH:MM:SS]0:00:00.005821\n",
      "20.0%\n",
      "[HH:MM:SS]0:00:00.005749\n",
      "30.0%\n",
      "[HH:MM:SS]0:00:00.005464\n",
      "40.0%\n",
      "[HH:MM:SS]0:00:00.005435\n",
      "50.0%\n",
      "[HH:MM:SS]0:00:00.005318\n",
      "60.0%\n",
      "[HH:MM:SS]0:00:00.005304\n",
      "70.0%\n",
      "[HH:MM:SS]0:00:00.005275\n",
      "80.0%\n",
      "[HH:MM:SS]0:00:00.005502\n",
      "90.0%\n",
      "[HH:MM:SS]0:00:00.005400\n",
      "100.0%\n"
     ]
    }
   ],
   "source": [
    "create_data(10)"
   ]
  },
  {
   "cell_type": "code",
   "execution_count": 17,
   "id": "6d236dff",
   "metadata": {},
   "outputs": [
    {
     "name": "stdout",
     "output_type": "stream",
     "text": [
      "ERROR: Could not find file /tmp/ipykernel_5571/440761055.py\n",
      "['first.csv', 'fourth.csv', 'sixth.csv', 'fifth.csv', 'third.csv', 'sevent.csv', 'tenth.csv', 'second.csv', 'ninth.csv', 'eight.csv']\n",
      "[HH:MM:SS]0:00:00.783398\n",
      "peak memory: 92.79 MiB, increment: 0.00 MiB\n"
     ]
    }
   ],
   "source": [
    "%memit reducer(10)"
   ]
  },
  {
   "cell_type": "code",
   "execution_count": null,
   "id": "d93162e9",
   "metadata": {},
   "outputs": [],
   "source": []
  }
 ],
 "metadata": {
  "kernelspec": {
   "display_name": "csv_tests",
   "language": "python",
   "name": "csv_tests"
  },
  "language_info": {
   "codemirror_mode": {
    "name": "ipython",
    "version": 3
   },
   "file_extension": ".py",
   "mimetype": "text/x-python",
   "name": "python",
   "nbconvert_exporter": "python",
   "pygments_lexer": "ipython3",
   "version": "3.10.9"
  }
 },
 "nbformat": 4,
 "nbformat_minor": 5
}
