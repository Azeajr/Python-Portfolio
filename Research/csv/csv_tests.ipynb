{
 "cells": [
  {
   "cell_type": "code",
   "execution_count": null,
   "id": "a22c3c3b-23d4-4b97-aee3-b0cea442e8d5",
   "metadata": {
    "tags": []
   },
   "outputs": [],
   "source": [
    "import csv\n",
    "from time import time\n",
    "from datetime import timedelta\n",
    "\n",
    "import inflect\n",
    "\n",
    "def create_data(num=None):\n",
    "    p = inflect.engine()\n",
    "\n",
    "    filename=[\"first\", \"second\", \"third\", \"fourth\", \"fifth\",\"sixth\", \"seventh\", \"eight\", \"ninth\", \"tenth\"]\n",
    "    if num:\n",
    "        filename = filename[:num]\n",
    "\n",
    "    for index, file in enumerate(filename):\n",
    "        with open(f\"{file}.csv\", \"w\", newline=\"\") as csvfile:\n",
    "            csvwriter = csv.writer(csvfile)\n",
    "            columns = 1_0\n",
    "            rows = 1_0\n",
    "            st = time()\n",
    "            csvwriter.writerow([f\"Header {p.number_to_words(c)}\" for c in range(columns)])\n",
    "            csvwriter.writerows([[file]+[f\"{p.number_to_words(r+1)}_{p.number_to_words(c+1)}\" for c in range(columns)] for r in range(rows)])\n",
    "            et = time()\n",
    "            print(f\"[HH:MM:SS]{timedelta(seconds=et-st)}\")\n",
    "            print(f\"{(index+1)*100/len(filename)}%\") # percent complete"
   ]
  },
  {
   "cell_type": "code",
   "execution_count": null,
   "id": "ce030bd6-3b38-4f05-9252-f3c94ca656de",
   "metadata": {
    "tags": []
   },
   "outputs": [],
   "source": [
    "create_data()"
   ]
  },
  {
   "cell_type": "code",
   "execution_count": 75,
   "id": "42965264-690e-4649-a9d6-51355fb5d1be",
   "metadata": {
    "tags": []
   },
   "outputs": [
    {
     "name": "stdout",
     "output_type": "stream",
     "text": [
      "Writing remove_cumulative.py\n"
     ]
    }
   ],
   "source": [
    "%%file remove_cumulative.py\n",
    "import os \n",
    "\n",
    "def remove_cumulative():\n",
    "    output_file = \"cumulative.csv\"\n",
    "    if os.path.exists(output_file):\n",
    "        os.remove(output_file)\n",
    "    #     print(\"Done\")\n",
    "    # else:\n",
    "    #     print(\"Nothing to delete\")\n",
    "\n",
    "if __name__ == \"__main__\":\n",
    "    remove_cumulative()"
   ]
  },
  {
   "cell_type": "code",
   "execution_count": 33,
   "id": "c3dfa773-7e25-4b16-a7fd-ab21be8b2dbe",
   "metadata": {
    "tags": []
   },
   "outputs": [],
   "source": [
    "%reload_ext memory_profiler\n",
    "%reload_ext filprofiler"
   ]
  },
  {
   "cell_type": "code",
   "execution_count": 70,
   "id": "2ab729f8-d2c3-4bad-9e0d-cc146550341b",
   "metadata": {},
   "outputs": [
    {
     "name": "stdout",
     "output_type": "stream",
     "text": [
      "Overwriting reducer1.py\n"
     ]
    }
   ],
   "source": [
    "%%file reducer1.py\n",
    "import os\n",
    "from glob import glob\n",
    "from functools import reduce\n",
    "\n",
    "def reducer(num=None):\n",
    "    output_file = \"cumulative.csv\"\n",
    "    received_csv_files = [file for file in glob(\"*.csv\") if file != output_file]\n",
    "\n",
    "    if not num or 0 > num > len(received_csv_files):\n",
    "        num = len(received_csv_files)\n",
    "        \n",
    "    received_csv_files = received_csv_files[:num]\n",
    "    \n",
    "    with open(output_file, \"wb\") as outfile:\n",
    "        def combine_files(out_file, in_file_path:str):\n",
    "            with open(in_file_path, \"rb\") as in_file:\n",
    "                if out_file.tell() !=0:\n",
    "                    next(in_file)\n",
    "                out_file.writelines(in_file)\n",
    "                return out_file\n",
    "        \n",
    "        reduce(combine_files, received_csv_files, outfile)\n",
    "        \n",
    "if __name__ == \"__main__\":\n",
    "    reducer()"
   ]
  },
  {
   "cell_type": "code",
   "execution_count": 44,
   "id": "8011a7f7-d7a0-4b1e-9364-a8fc02551ce1",
   "metadata": {
    "tags": []
   },
   "outputs": [
    {
     "name": "stdout",
     "output_type": "stream",
     "text": [
      "187 µs ± 2.38 µs per loop (mean ± std. dev. of 10 runs, 10,000 loops each)\n"
     ]
    }
   ],
   "source": [
    "%%timeit -r 10 -n 10_000\n",
    "reducer()\n",
    "remove_cumulative()"
   ]
  },
  {
   "cell_type": "code",
   "execution_count": 29,
   "id": "3d74b534-4ed5-4a3f-a2aa-9b0b4e36dae9",
   "metadata": {
    "tags": []
   },
   "outputs": [
    {
     "name": "stdout",
     "output_type": "stream",
     "text": [
      "peak memory: 138.07 MiB, increment: 0.00 MiB\n"
     ]
    }
   ],
   "source": [
    "%memit reducer()\n",
    "remove_cumulative()"
   ]
  },
  {
   "cell_type": "code",
   "execution_count": 30,
   "id": "9d72e30a-7a3b-4b8f-88be-d3632b15c120",
   "metadata": {
    "tags": []
   },
   "outputs": [
    {
     "name": "stderr",
     "output_type": "stream",
     "text": [
      "=fil-profile= Preparing to write to fil-result/tmp2a_1bbum\n",
      "=fil-profile= Wrote flamegraph to \"fil-result/tmp2a_1bbum/peak-memory.svg\"\n",
      "=fil-profile= Wrote flamegraph to \"fil-result/tmp2a_1bbum/peak-memory-reversed.svg\"\n"
     ]
    },
    {
     "data": {
      "text/html": [
       "\n",
       "        <iframe\n",
       "            width=\"100%\"\n",
       "            height=\"600\"\n",
       "            src=\"fil-result/tmp2a_1bbum/peak-memory.svg\"\n",
       "            frameborder=\"0\"\n",
       "            allowfullscreen\n",
       "            \n",
       "        ></iframe>\n",
       "        "
      ],
      "text/plain": [
       "<IPython.lib.display.IFrame at 0x7f6b0c023650>"
      ]
     },
     "metadata": {},
     "output_type": "display_data"
    }
   ],
   "source": [
    "%%filprofile\n",
    "reducer()\n",
    "remove_cumulative()"
   ]
  },
  {
   "cell_type": "code",
   "execution_count": 71,
   "id": "202764c0-917c-4eee-81d8-4d4ac55222b7",
   "metadata": {
    "tags": []
   },
   "outputs": [
    {
     "name": "stdout",
     "output_type": "stream",
     "text": [
      "Overwriting reducer2.py\n"
     ]
    }
   ],
   "source": [
    "%%file reducer2.py\n",
    "# Opening the product file in append mode\n",
    "import os\n",
    "from glob import glob\n",
    "from functools import reduce\n",
    "\n",
    "def reducer(num=None):\n",
    "    output_file = \"cumulative.csv\"\n",
    "    received_csv_files = [file for file in glob(\"*.csv\") if file != output_file]\n",
    "\n",
    "    if not num or 0 > num > len(received_csv_files):\n",
    "        num = len(received_csv_files)\n",
    "        \n",
    "    received_csv_files = received_csv_files[:num]\n",
    "    \n",
    "    with open(output_file, \"ab\") as outfile:\n",
    "        def combine_files(out_file, in_file_path:str):\n",
    "            with open(in_file_path, \"rb\") as in_file:\n",
    "                if out_file.tell() !=0:\n",
    "                    next(in_file)\n",
    "                out_file.writelines(in_file)\n",
    "                return out_file\n",
    "        \n",
    "        reduce(combine_files, received_csv_files, outfile)\n",
    "\n",
    "if __name__ == \"__main__\":\n",
    "    reducer()"
   ]
  },
  {
   "cell_type": "code",
   "execution_count": 8,
   "id": "ff02d38d-c39c-434b-aa6d-6ab1f5032694",
   "metadata": {
    "tags": []
   },
   "outputs": [
    {
     "name": "stdout",
     "output_type": "stream",
     "text": [
      "176 µs ± 1.84 µs per loop (mean ± std. dev. of 10 runs, 10,000 loops each)\n"
     ]
    }
   ],
   "source": [
    "%%timeit -r 10 -n 10_000\n",
    "reducer()\n",
    "remove_cumulative()"
   ]
  },
  {
   "cell_type": "code",
   "execution_count": 9,
   "id": "74c3c8a2-d740-41f1-a125-03c8290fb4c1",
   "metadata": {
    "tags": []
   },
   "outputs": [
    {
     "name": "stdout",
     "output_type": "stream",
     "text": [
      "peak memory: 111.08 MiB, increment: 0.11 MiB\n"
     ]
    }
   ],
   "source": [
    "%memit reducer()\n",
    "remove_cumulative()"
   ]
  },
  {
   "cell_type": "code",
   "execution_count": 10,
   "id": "860b7ebc-f72a-4663-8239-c9b05978710f",
   "metadata": {
    "tags": []
   },
   "outputs": [
    {
     "name": "stderr",
     "output_type": "stream",
     "text": [
      "=fil-profile= Preparing to write to fil-result/tmpsa51n43z\n",
      "=fil-profile= Wrote flamegraph to \"fil-result/tmpsa51n43z/peak-memory.svg\"\n",
      "=fil-profile= Wrote flamegraph to \"fil-result/tmpsa51n43z/peak-memory-reversed.svg\"\n"
     ]
    },
    {
     "data": {
      "text/html": [
       "\n",
       "        <iframe\n",
       "            width=\"100%\"\n",
       "            height=\"600\"\n",
       "            src=\"fil-result/tmpsa51n43z/peak-memory.svg\"\n",
       "            frameborder=\"0\"\n",
       "            allowfullscreen\n",
       "            \n",
       "        ></iframe>\n",
       "        "
      ],
      "text/plain": [
       "<IPython.lib.display.IFrame at 0x55555b635a60>"
      ]
     },
     "metadata": {},
     "output_type": "display_data"
    }
   ],
   "source": [
    "%%filprofile\n",
    "reducer()\n",
    "remove_cumulative()"
   ]
  },
  {
   "cell_type": "code",
   "execution_count": 11,
   "id": "00ed2215-b87c-490b-9b82-01a5c2f23c58",
   "metadata": {
    "tags": []
   },
   "outputs": [],
   "source": [
    "# from glob import glob\n",
    "# from functools import reduce\n",
    "\n",
    "# import pandas as pd\n",
    "\n",
    "# def reducer(num=None):\n",
    "#     CHUNK_SIZE = 1\n",
    "#     output_file = \"cumulative.csv\"\n",
    "#     received_csv_files = [file for file in glob(\"*.csv\") if file != output_file]\n",
    "\n",
    "#     if not num or 0 > num > len(received_csv_files):\n",
    "#         num = len(received_csv_files)\n",
    "        \n",
    "#     received_csv_files = received_csv_files[:num]\n",
    "#     first_one = True\n",
    "#     for csv_file_name in received_csv_files:\n",
    "#         if not first_one: # if it is not the first csv file then skip the header row (row 0) of that file\n",
    "#             skip_row = [0]\n",
    "#         else:\n",
    "#             skip_row = []\n",
    "        \n",
    "#         chunk_container = pd.read_csv(csv_file_name, chunksize=CHUNK_SIZE,skiprows = skip_row)\n",
    "#         first_first_one = True\n",
    "#         for chunk in chunk_container:\n",
    "#             chunk.to_csv(output_file, mode=\"a\", index=False, header=first_one and first_first_one)\n",
    "#             first_first_one = False\n",
    "#         first_one = False"
   ]
  },
  {
   "cell_type": "code",
   "execution_count": 12,
   "id": "b2af6c3d-6e53-4739-a65c-21dc27e96927",
   "metadata": {
    "tags": []
   },
   "outputs": [],
   "source": [
    "# %%timeit -r 10 -n 10_000\n",
    "# reducer()\n",
    "# remove_cumulative()"
   ]
  },
  {
   "cell_type": "code",
   "execution_count": 13,
   "id": "c7730fac-63ae-401c-b536-c493ad38d5db",
   "metadata": {
    "tags": []
   },
   "outputs": [],
   "source": [
    "# %memit reducer()\n",
    "# remove_cumulative()"
   ]
  },
  {
   "cell_type": "code",
   "execution_count": 72,
   "id": "69898ff6-fd95-4feb-8f78-46b825f8ddfb",
   "metadata": {},
   "outputs": [
    {
     "name": "stdout",
     "output_type": "stream",
     "text": [
      "Overwriting reducer3.py\n"
     ]
    }
   ],
   "source": [
    "%%file reducer3.py\n",
    "from glob import glob\n",
    "import shutil\n",
    "\n",
    "def reducer(num=None):\n",
    "    output_file = \"cumulative.csv\"\n",
    "    received_csv_files = [file for file in glob(\"*.csv\") if file != output_file]\n",
    "    with open(output_file, 'wb') as outfile:\n",
    "        for i, filename in enumerate(received_csv_files):\n",
    "            if filename == output_file:\n",
    "                continue\n",
    "            with open(filename, 'rb') as readfile:\n",
    "                if i != 0:\n",
    "                    readfile.readline()\n",
    "                shutil.copyfileobj(readfile, outfile)\n",
    "                \n",
    "if __name__ == \"__main__\":\n",
    "    reducer()"
   ]
  },
  {
   "cell_type": "code",
   "execution_count": 15,
   "id": "b892a2eb-aecd-4474-a819-4786239702fc",
   "metadata": {
    "tags": []
   },
   "outputs": [
    {
     "name": "stdout",
     "output_type": "stream",
     "text": [
      "171 µs ± 1.5 µs per loop (mean ± std. dev. of 10 runs, 10,000 loops each)\n"
     ]
    }
   ],
   "source": [
    "%%timeit -r 10 -n 10_000\n",
    "reducer()\n",
    "remove_cumulative()"
   ]
  },
  {
   "cell_type": "code",
   "execution_count": 16,
   "id": "cf78a241-b1e9-432a-93fc-7dea4a815955",
   "metadata": {
    "tags": []
   },
   "outputs": [
    {
     "name": "stdout",
     "output_type": "stream",
     "text": [
      "peak memory: 111.71 MiB, increment: 0.10 MiB\n"
     ]
    }
   ],
   "source": [
    "%memit reducer()\n",
    "remove_cumulative()"
   ]
  },
  {
   "cell_type": "code",
   "execution_count": 17,
   "id": "d25589ba-092e-44b8-b7de-c8ee1f61d315",
   "metadata": {},
   "outputs": [
    {
     "name": "stderr",
     "output_type": "stream",
     "text": [
      "=fil-profile= Preparing to write to fil-result/tmpp9f4dp86\n",
      "=fil-profile= Wrote flamegraph to \"fil-result/tmpp9f4dp86/peak-memory.svg\"\n",
      "=fil-profile= Wrote flamegraph to \"fil-result/tmpp9f4dp86/peak-memory-reversed.svg\"\n"
     ]
    },
    {
     "data": {
      "text/html": [
       "\n",
       "        <iframe\n",
       "            width=\"100%\"\n",
       "            height=\"600\"\n",
       "            src=\"fil-result/tmpp9f4dp86/peak-memory.svg\"\n",
       "            frameborder=\"0\"\n",
       "            allowfullscreen\n",
       "            \n",
       "        ></iframe>\n",
       "        "
      ],
      "text/plain": [
       "<IPython.lib.display.IFrame at 0x55555a3f91f0>"
      ]
     },
     "metadata": {},
     "output_type": "display_data"
    }
   ],
   "source": [
    "%%filprofile\n",
    "reducer()\n",
    "remove_cumulative()"
   ]
  },
  {
   "cell_type": "code",
   "execution_count": 73,
   "id": "0e7e0a75-540d-4f4b-878b-ec279c51fdf8",
   "metadata": {
    "tags": []
   },
   "outputs": [
    {
     "name": "stdout",
     "output_type": "stream",
     "text": [
      "Overwriting reducer4.py\n"
     ]
    }
   ],
   "source": [
    "%%file reducer4.py\n",
    "# Opening the files in text mode instead of binary\n",
    "import os\n",
    "from glob import glob\n",
    "from functools import reduce\n",
    "\n",
    "def reducer(num=None):\n",
    "    output_file = \"cumulative.csv\"\n",
    "    received_csv_files = [file for file in glob(\"*.csv\") if file != output_file]\n",
    "\n",
    "    if not num or 0 > num > len(received_csv_files):\n",
    "        num = len(received_csv_files)\n",
    "        \n",
    "    received_csv_files = received_csv_files[:num]\n",
    "    \n",
    "    with open(output_file, \"wt\") as outfile:\n",
    "        def combine_files(out_file, in_file_path:str):\n",
    "            with open(in_file_path, \"rt\") as in_file:\n",
    "                if out_file.tell() !=0:\n",
    "                    next(in_file)\n",
    "                out_file.writelines(in_file)\n",
    "                return out_file\n",
    "        \n",
    "        reduce(combine_files, received_csv_files, outfile)\n",
    "\n",
    "if __name__ == \"__main__\":\n",
    "    reducer()"
   ]
  },
  {
   "cell_type": "code",
   "execution_count": 19,
   "id": "98c6acd4-8b66-43e9-95cf-d661b613f639",
   "metadata": {
    "tags": []
   },
   "outputs": [
    {
     "name": "stdout",
     "output_type": "stream",
     "text": [
      "269 µs ± 1.78 µs per loop (mean ± std. dev. of 10 runs, 10,000 loops each)\n"
     ]
    }
   ],
   "source": [
    "%%timeit -r 10 -n 10_000\n",
    "reducer()\n",
    "remove_cumulative()"
   ]
  },
  {
   "cell_type": "code",
   "execution_count": 20,
   "id": "1fcf225e-8b27-4a79-8f4f-bdca8e6aaa48",
   "metadata": {
    "tags": []
   },
   "outputs": [
    {
     "name": "stdout",
     "output_type": "stream",
     "text": [
      "peak memory: 112.84 MiB, increment: 0.00 MiB\n"
     ]
    }
   ],
   "source": [
    "%memit reducer()\n",
    "remove_cumulative()"
   ]
  },
  {
   "cell_type": "code",
   "execution_count": 21,
   "id": "75095d98-b4d5-4571-96dd-618252a3df10",
   "metadata": {},
   "outputs": [
    {
     "name": "stderr",
     "output_type": "stream",
     "text": [
      "=fil-profile= Preparing to write to fil-result/tmp9js_0m9w\n",
      "=fil-profile= Wrote flamegraph to \"fil-result/tmp9js_0m9w/peak-memory.svg\"\n",
      "=fil-profile= Wrote flamegraph to \"fil-result/tmp9js_0m9w/peak-memory-reversed.svg\"\n"
     ]
    },
    {
     "data": {
      "text/html": [
       "\n",
       "        <iframe\n",
       "            width=\"100%\"\n",
       "            height=\"600\"\n",
       "            src=\"fil-result/tmp9js_0m9w/peak-memory.svg\"\n",
       "            frameborder=\"0\"\n",
       "            allowfullscreen\n",
       "            \n",
       "        ></iframe>\n",
       "        "
      ],
      "text/plain": [
       "<IPython.lib.display.IFrame at 0x55555b6ccb40>"
      ]
     },
     "metadata": {},
     "output_type": "display_data"
    }
   ],
   "source": [
    "%%filprofile\n",
    "reducer()\n",
    "remove_cumulative()"
   ]
  },
  {
   "cell_type": "code",
   "execution_count": 74,
   "id": "f6868399-98e2-49a4-bf4f-2519767cecf3",
   "metadata": {},
   "outputs": [
    {
     "name": "stdout",
     "output_type": "stream",
     "text": [
      "Overwriting reducer5.py\n"
     ]
    }
   ],
   "source": [
    "%%file reducer5.py\n",
    "import os\n",
    "from glob import glob\n",
    "from functools import reduce\n",
    "\n",
    "def reducer(num=None):\n",
    "    output_file = \"cumulative.csv\"\n",
    "    received_csv_files = [file for file in glob(\"*.csv\") if file != output_file]\n",
    "\n",
    "    if not num or 0 > num > len(received_csv_files):\n",
    "        num = len(received_csv_files)\n",
    "        \n",
    "    received_csv_files = received_csv_files[:num]\n",
    "    \n",
    "    with open(output_file, \"wb\") as outfile:\n",
    "        with open(received_csv_files[0],\"rb\") as one:\n",
    "            with open(received_csv_files[1],\"rb\") as two:\n",
    "                with open(received_csv_files[2],\"rb\") as three:\n",
    "                    with open(received_csv_files[3],\"rb\") as four:\n",
    "                        with open(received_csv_files[4],\"rb\") as five:\n",
    "                            with open(received_csv_files[5],\"rb\") as six:\n",
    "                                with open(received_csv_files[6],\"rb\") as seven:\n",
    "                                    with open(received_csv_files[7],\"rb\") as eight:\n",
    "                                        with open(received_csv_files[8],\"rb\") as nine:\n",
    "                                            with open(received_csv_files[9],\"rb\") as ten:\n",
    "                                                outfile.writelines(one)\n",
    "                                                outfile.writelines(two)\n",
    "                                                outfile.writelines(three)\n",
    "                                                outfile.writelines(four)\n",
    "                                                outfile.writelines(five)\n",
    "                                                outfile.writelines(six)\n",
    "                                                outfile.writelines(seven)\n",
    "                                                outfile.writelines(eight)\n",
    "                                                outfile.writelines(nine)\n",
    "                                                outfile.writelines(ten)\n",
    "                                \n",
    "                    \n",
    "if __name__ == \"__main__\":\n",
    "    reducer()"
   ]
  },
  {
   "cell_type": "code",
   "execution_count": 61,
   "id": "71b52d3f-cd22-4a47-8fbd-28356e720fd6",
   "metadata": {
    "tags": []
   },
   "outputs": [
    {
     "name": "stdout",
     "output_type": "stream",
     "text": [
      "173 µs ± 2.78 µs per loop (mean ± std. dev. of 10 runs, 10,000 loops each)\n"
     ]
    }
   ],
   "source": [
    "%%timeit -r 10 -n 10_000\n",
    "reducer()\n",
    "remove_cumulative()"
   ]
  },
  {
   "cell_type": "code",
   "execution_count": 62,
   "id": "3b3dc227-60be-4c75-b206-cfe33d7f10b2",
   "metadata": {
    "tags": []
   },
   "outputs": [
    {
     "name": "stdout",
     "output_type": "stream",
     "text": [
      "peak memory: 142.78 MiB, increment: 0.00 MiB\n"
     ]
    }
   ],
   "source": [
    "%memit reducer()\n",
    "remove_cumulative()"
   ]
  },
  {
   "cell_type": "code",
   "execution_count": 63,
   "id": "3516568c-188a-4f64-afa3-3b978a2e3da0",
   "metadata": {},
   "outputs": [
    {
     "name": "stderr",
     "output_type": "stream",
     "text": [
      "=fil-profile= Preparing to write to fil-result/tmpregwv0cg\n",
      "=fil-profile= Wrote flamegraph to \"fil-result/tmpregwv0cg/peak-memory.svg\"\n",
      "=fil-profile= Wrote flamegraph to \"fil-result/tmpregwv0cg/peak-memory-reversed.svg\"\n"
     ]
    },
    {
     "data": {
      "text/html": [
       "\n",
       "        <iframe\n",
       "            width=\"100%\"\n",
       "            height=\"600\"\n",
       "            src=\"fil-result/tmpregwv0cg/peak-memory.svg\"\n",
       "            frameborder=\"0\"\n",
       "            allowfullscreen\n",
       "            \n",
       "        ></iframe>\n",
       "        "
      ],
      "text/plain": [
       "<IPython.lib.display.IFrame at 0x7f6b0c023650>"
      ]
     },
     "metadata": {},
     "output_type": "display_data"
    }
   ],
   "source": [
    "%%filprofile\n",
    "reducer()\n",
    "remove_cumulative()"
   ]
  },
  {
   "cell_type": "code",
   "execution_count": null,
   "id": "d33582d6-3d1e-4789-adfd-47e410518c35",
   "metadata": {},
   "outputs": [],
   "source": []
  }
 ],
 "metadata": {
  "kernelspec": {
   "display_name": "Python 3 with Fil",
   "language": "python",
   "name": "filprofile"
  },
  "language_info": {
   "codemirror_mode": {
    "name": "ipython",
    "version": 3
   },
   "file_extension": ".py",
   "mimetype": "text/x-python",
   "name": "python",
   "nbconvert_exporter": "python",
   "pygments_lexer": "ipython3",
   "version": "3.10.9"
  }
 },
 "nbformat": 4,
 "nbformat_minor": 5
}
